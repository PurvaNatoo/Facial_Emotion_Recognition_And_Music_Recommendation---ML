{
  "cells": [
    {
      "cell_type": "markdown",
      "metadata": {
        "id": "view-in-github",
        "colab_type": "text"
      },
      "source": [
        "<a href=\"https://colab.research.google.com/github/PurvaNatoo/ML_FacialEmotionRecognitionAndMusisRecommendation/blob/main/ML_Project.ipynb\" target=\"_parent\"><img src=\"https://colab.research.google.com/assets/colab-badge.svg\" alt=\"Open In Colab\"/></a>"
      ]
    },
    {
      "cell_type": "markdown",
      "metadata": {
        "id": "88uCPNcIe38Z"
      },
      "source": [
        "### Importing Libraries"
      ]
    },
    {
      "cell_type": "code",
      "execution_count": null,
      "metadata": {
        "id": "mdq6zRKZG4kK"
      },
      "outputs": [],
      "source": [
        "import cv2\n",
        "import os\n",
        "import pandas as pd\n",
        "import numpy as np\n",
        "import matplotlib.pyplot as plt\n",
        "%matplotlib inline"
      ]
    },
    {
      "cell_type": "code",
      "execution_count": null,
      "metadata": {
        "colab": {
          "base_uri": "https://localhost:8080/"
        },
        "id": "JuSLDDHvJ61O",
        "outputId": "cafd3b8c-c0b1-4d06-c572-e069752773bf"
      },
      "outputs": [
        {
          "output_type": "stream",
          "name": "stdout",
          "text": [
            "Drive already mounted at /content/drive; to attempt to forcibly remount, call drive.mount(\"/content/drive\", force_remount=True).\n"
          ]
        }
      ],
      "source": [
        "from google.colab import drive\n",
        "drive.mount('/content/drive')"
      ]
    },
    {
      "cell_type": "markdown",
      "metadata": {
        "id": "lCf7KvIBe95v"
      },
      "source": [
        "### Data fetching, cleaning and visualization"
      ]
    },
    {
      "cell_type": "markdown",
      "metadata": {
        "id": "4coeMZUfgBxl"
      },
      "source": [
        "Fetching data"
      ]
    },
    {
      "cell_type": "code",
      "execution_count": null,
      "metadata": {
        "colab": {
          "base_uri": "https://localhost:8080/"
        },
        "id": "BwQT2-WaM_qU",
        "outputId": "ed1a4b1f-2b68-419f-9420-893d863007f7"
      },
      "outputs": [
        {
          "output_type": "stream",
          "name": "stdout",
          "text": [
            "   emotion                                             pixels     usage\n",
            "0        0  70 80 82 72 58 58 60 63 54 58 60 48 89 115 121...  Training\n",
            "1        0  151 150 147 155 148 133 111 140 170 174 182 15...  Training\n",
            "2        2  231 212 156 164 174 138 161 173 182 200 106 38...  Training\n",
            "3        4  24 32 36 30 32 23 19 20 30 41 21 22 32 34 21 1...  Training\n",
            "4        6  4 0 0 0 0 0 0 0 0 0 0 0 3 15 23 28 48 50 58 84...  Training\n"
          ]
        }
      ],
      "source": [
        "df1 = pd.read_csv(\"/content/drive/MyDrive/Emotion Recognition/Images/fer2013/fer2013.csv\")\n",
        "df2 = pd.read_csv(\"/content/drive/MyDrive/Emotion Recognition/icml_face_data.csv\")\n",
        "df1.columns = ['emotion', 'pixels', 'usage']\n",
        "df2.columns = ['emotion', 'usage', 'pixels']\n",
        "df2.insert(1, 'pixels', df2.pop('pixels'))\n",
        "data = pd.concat([df1, df2], axis=0)\n",
        "print(data.head(5))"
      ]
    },
    {
      "cell_type": "code",
      "execution_count": null,
      "metadata": {
        "colab": {
          "base_uri": "https://localhost:8080/"
        },
        "id": "k93pOe3dP3Le",
        "outputId": "2e91a22a-c3cb-489c-891f-bdd525312f10"
      },
      "outputs": [
        {
          "output_type": "execute_result",
          "data": {
            "text/plain": [
              "Training       45889\n",
              "PublicTest      3589\n",
              "PrivateTest     3589\n",
              "Name: usage, dtype: int64"
            ]
          },
          "metadata": {},
          "execution_count": 4
        }
      ],
      "source": [
        "data['usage'].value_counts()"
      ]
    },
    {
      "cell_type": "code",
      "execution_count": null,
      "metadata": {
        "colab": {
          "base_uri": "https://localhost:8080/",
          "height": 206
        },
        "id": "hSYO-TOwgb2q",
        "outputId": "6dda9f5d-667e-401d-8fe0-978ebb70516c"
      },
      "outputs": [
        {
          "output_type": "execute_result",
          "data": {
            "text/plain": [
              "   emotion                                             pixels\n",
              "0        0  70 80 82 72 58 58 60 63 54 58 60 48 89 115 121...\n",
              "1        0  151 150 147 155 148 133 111 140 170 174 182 15...\n",
              "2        2  231 212 156 164 174 138 161 173 182 200 106 38...\n",
              "3        4  24 32 36 30 32 23 19 20 30 41 21 22 32 34 21 1...\n",
              "4        6  4 0 0 0 0 0 0 0 0 0 0 0 3 15 23 28 48 50 58 84..."
            ],
            "text/html": [
              "\n",
              "  <div id=\"df-20d56ee2-eff0-453c-b9a8-2665dcbe22f3\">\n",
              "    <div class=\"colab-df-container\">\n",
              "      <div>\n",
              "<style scoped>\n",
              "    .dataframe tbody tr th:only-of-type {\n",
              "        vertical-align: middle;\n",
              "    }\n",
              "\n",
              "    .dataframe tbody tr th {\n",
              "        vertical-align: top;\n",
              "    }\n",
              "\n",
              "    .dataframe thead th {\n",
              "        text-align: right;\n",
              "    }\n",
              "</style>\n",
              "<table border=\"1\" class=\"dataframe\">\n",
              "  <thead>\n",
              "    <tr style=\"text-align: right;\">\n",
              "      <th></th>\n",
              "      <th>emotion</th>\n",
              "      <th>pixels</th>\n",
              "    </tr>\n",
              "  </thead>\n",
              "  <tbody>\n",
              "    <tr>\n",
              "      <th>0</th>\n",
              "      <td>0</td>\n",
              "      <td>70 80 82 72 58 58 60 63 54 58 60 48 89 115 121...</td>\n",
              "    </tr>\n",
              "    <tr>\n",
              "      <th>1</th>\n",
              "      <td>0</td>\n",
              "      <td>151 150 147 155 148 133 111 140 170 174 182 15...</td>\n",
              "    </tr>\n",
              "    <tr>\n",
              "      <th>2</th>\n",
              "      <td>2</td>\n",
              "      <td>231 212 156 164 174 138 161 173 182 200 106 38...</td>\n",
              "    </tr>\n",
              "    <tr>\n",
              "      <th>3</th>\n",
              "      <td>4</td>\n",
              "      <td>24 32 36 30 32 23 19 20 30 41 21 22 32 34 21 1...</td>\n",
              "    </tr>\n",
              "    <tr>\n",
              "      <th>4</th>\n",
              "      <td>6</td>\n",
              "      <td>4 0 0 0 0 0 0 0 0 0 0 0 3 15 23 28 48 50 58 84...</td>\n",
              "    </tr>\n",
              "  </tbody>\n",
              "</table>\n",
              "</div>\n",
              "      <button class=\"colab-df-convert\" onclick=\"convertToInteractive('df-20d56ee2-eff0-453c-b9a8-2665dcbe22f3')\"\n",
              "              title=\"Convert this dataframe to an interactive table.\"\n",
              "              style=\"display:none;\">\n",
              "        \n",
              "  <svg xmlns=\"http://www.w3.org/2000/svg\" height=\"24px\"viewBox=\"0 0 24 24\"\n",
              "       width=\"24px\">\n",
              "    <path d=\"M0 0h24v24H0V0z\" fill=\"none\"/>\n",
              "    <path d=\"M18.56 5.44l.94 2.06.94-2.06 2.06-.94-2.06-.94-.94-2.06-.94 2.06-2.06.94zm-11 1L8.5 8.5l.94-2.06 2.06-.94-2.06-.94L8.5 2.5l-.94 2.06-2.06.94zm10 10l.94 2.06.94-2.06 2.06-.94-2.06-.94-.94-2.06-.94 2.06-2.06.94z\"/><path d=\"M17.41 7.96l-1.37-1.37c-.4-.4-.92-.59-1.43-.59-.52 0-1.04.2-1.43.59L10.3 9.45l-7.72 7.72c-.78.78-.78 2.05 0 2.83L4 21.41c.39.39.9.59 1.41.59.51 0 1.02-.2 1.41-.59l7.78-7.78 2.81-2.81c.8-.78.8-2.07 0-2.86zM5.41 20L4 18.59l7.72-7.72 1.47 1.35L5.41 20z\"/>\n",
              "  </svg>\n",
              "      </button>\n",
              "      \n",
              "  <style>\n",
              "    .colab-df-container {\n",
              "      display:flex;\n",
              "      flex-wrap:wrap;\n",
              "      gap: 12px;\n",
              "    }\n",
              "\n",
              "    .colab-df-convert {\n",
              "      background-color: #E8F0FE;\n",
              "      border: none;\n",
              "      border-radius: 50%;\n",
              "      cursor: pointer;\n",
              "      display: none;\n",
              "      fill: #1967D2;\n",
              "      height: 32px;\n",
              "      padding: 0 0 0 0;\n",
              "      width: 32px;\n",
              "    }\n",
              "\n",
              "    .colab-df-convert:hover {\n",
              "      background-color: #E2EBFA;\n",
              "      box-shadow: 0px 1px 2px rgba(60, 64, 67, 0.3), 0px 1px 3px 1px rgba(60, 64, 67, 0.15);\n",
              "      fill: #174EA6;\n",
              "    }\n",
              "\n",
              "    [theme=dark] .colab-df-convert {\n",
              "      background-color: #3B4455;\n",
              "      fill: #D2E3FC;\n",
              "    }\n",
              "\n",
              "    [theme=dark] .colab-df-convert:hover {\n",
              "      background-color: #434B5C;\n",
              "      box-shadow: 0px 1px 3px 1px rgba(0, 0, 0, 0.15);\n",
              "      filter: drop-shadow(0px 1px 2px rgba(0, 0, 0, 0.3));\n",
              "      fill: #FFFFFF;\n",
              "    }\n",
              "  </style>\n",
              "\n",
              "      <script>\n",
              "        const buttonEl =\n",
              "          document.querySelector('#df-20d56ee2-eff0-453c-b9a8-2665dcbe22f3 button.colab-df-convert');\n",
              "        buttonEl.style.display =\n",
              "          google.colab.kernel.accessAllowed ? 'block' : 'none';\n",
              "\n",
              "        async function convertToInteractive(key) {\n",
              "          const element = document.querySelector('#df-20d56ee2-eff0-453c-b9a8-2665dcbe22f3');\n",
              "          const dataTable =\n",
              "            await google.colab.kernel.invokeFunction('convertToInteractive',\n",
              "                                                     [key], {});\n",
              "          if (!dataTable) return;\n",
              "\n",
              "          const docLinkHtml = 'Like what you see? Visit the ' +\n",
              "            '<a target=\"_blank\" href=https://colab.research.google.com/notebooks/data_table.ipynb>data table notebook</a>'\n",
              "            + ' to learn more about interactive tables.';\n",
              "          element.innerHTML = '';\n",
              "          dataTable['output_type'] = 'display_data';\n",
              "          await google.colab.output.renderOutput(dataTable, element);\n",
              "          const docLink = document.createElement('div');\n",
              "          docLink.innerHTML = docLinkHtml;\n",
              "          element.appendChild(docLink);\n",
              "        }\n",
              "      </script>\n",
              "    </div>\n",
              "  </div>\n",
              "  "
            ]
          },
          "metadata": {},
          "execution_count": 5
        }
      ],
      "source": [
        "data = data.drop('usage', axis=1)\n",
        "data.head(5)"
      ]
    },
    {
      "cell_type": "code",
      "execution_count": null,
      "metadata": {
        "colab": {
          "base_uri": "https://localhost:8080/"
        },
        "id": "B4d_nsK9RNAu",
        "outputId": "c4d04d28-4cac-43a4-aa1b-2d566f1fdfba"
      },
      "outputs": [
        {
          "output_type": "execute_result",
          "data": {
            "text/plain": [
              "(53068, 2)"
            ]
          },
          "metadata": {},
          "execution_count": 6
        }
      ],
      "source": [
        "data.shape"
      ]
    },
    {
      "cell_type": "code",
      "execution_count": null,
      "metadata": {
        "id": "xH3mSRJs4p7a"
      },
      "outputs": [],
      "source": [
        "from PIL import Image\n",
        "dataset = []"
      ]
    },
    {
      "cell_type": "code",
      "execution_count": null,
      "metadata": {
        "colab": {
          "base_uri": "https://localhost:8080/"
        },
        "id": "XeKYDVhfSmPB",
        "outputId": "5203c692-89e3-4722-b523-eef7eb2c4f94"
      },
      "outputs": [
        {
          "output_type": "stream",
          "name": "stdout",
          "text": [
            "Problem with string\n"
          ]
        }
      ],
      "source": [
        "for i in range(len(data)): #column 2 has the pixels. Row 1 is column name.\n",
        "    #print(image_pixels)\n",
        "    label = int(data.iloc[i, -2])\n",
        "    image_pixels = data.iloc[i, -1]\n",
        "    try:\n",
        "      image_data = np.fromstring(image_pixels, dtype=int, sep=' ').reshape(48,48,1)\n",
        "      dataset.append([image_data, label])\n",
        "    except:\n",
        "      print(\"Problem with string\")"
      ]
    },
    {
      "cell_type": "code",
      "execution_count": null,
      "metadata": {
        "colab": {
          "base_uri": "https://localhost:8080/"
        },
        "id": "qAK4tLUrA4bJ",
        "outputId": "e30d09a8-58c3-4a52-dac3-c5220dbcba51"
      },
      "outputs": [
        {
          "output_type": "execute_result",
          "data": {
            "text/plain": [
              "53067"
            ]
          },
          "metadata": {},
          "execution_count": 9
        }
      ],
      "source": [
        "len(dataset)"
      ]
    },
    {
      "cell_type": "markdown",
      "metadata": {
        "id": "TeYvcqpvg-wR"
      },
      "source": [
        "Displaying images"
      ]
    },
    {
      "cell_type": "code",
      "execution_count": null,
      "metadata": {
        "id": "ecxojKtgheMp"
      },
      "outputs": [],
      "source": [
        "import random\n",
        "random.seed(42)"
      ]
    },
    {
      "cell_type": "code",
      "execution_count": null,
      "metadata": {
        "id": "oZNRuV15ixzQ"
      },
      "outputs": [],
      "source": [
        "emotion_dict = {0:'angry', 1:'disgust', 2: 'fear', 3: 'happy', 4: 'neutral', 5: 'sad', 6: 'surprise'}"
      ]
    },
    {
      "cell_type": "code",
      "execution_count": null,
      "metadata": {
        "colab": {
          "base_uri": "https://localhost:8080/",
          "height": 261
        },
        "id": "KN5QpXsaBCFY",
        "outputId": "28341270-f369-441f-c132-9af7f84a41ea"
      },
      "outputs": [
        {
          "output_type": "display_data",
          "data": {
            "text/plain": [
              "<Figure size 864x864 with 3 Axes>"
            ],
            "image/png": "[encoded data removed]"
          },
          "metadata": {
            "needs_background": "light"
          }
        }
      ],
      "source": [
        "random.shuffle(dataset)\n",
        "fig = plt.figure(figsize=(12, 12))\n",
        "for i in range(3):\n",
        "  num = random.randint(0, 53066)\n",
        "  a = fig.add_subplot(1, 3, i+1)\n",
        "  img = dataset[num][0]\n",
        "  image_plot = plt.imshow(img.reshape(48, 48), cmap=\"binary_r\")\n",
        "  emotion_num = dataset[num][1]\n",
        "  emotion = emotion_dict[emotion_num]\n",
        "  a.set_title(\"Image \" + str(num) + \": \" + emotion)"
      ]
    },
    {
      "cell_type": "markdown",
      "metadata": {
        "id": "lCqL8ykJl_BH"
      },
      "source": [
        "### Train Test split"
      ]
    },
    {
      "cell_type": "code",
      "execution_count": null,
      "metadata": {
        "id": "ojFfCrFEnEAq"
      },
      "outputs": [],
      "source": [
        "from sklearn.model_selection import train_test_split\n",
        "from sklearn.metrics import confusion_matrix, accuracy_score, classification_report, precision_recall_fscore_support"
      ]
    },
    {
      "cell_type": "code",
      "execution_count": null,
      "metadata": {
        "id": "yfZ6QGd_mWqj"
      },
      "outputs": [],
      "source": [
        "x = np.array([sample[0] for sample in dataset])\n",
        "y = np.array([sample[1] for sample in dataset])"
      ]
    },
    {
      "cell_type": "code",
      "execution_count": null,
      "metadata": {
        "colab": {
          "base_uri": "https://localhost:8080/"
        },
        "id": "550mxWiqw6wW",
        "outputId": "01aeac16-043f-4a70-d9b4-59e731f65af8"
      },
      "outputs": [
        {
          "output_type": "execute_result",
          "data": {
            "text/plain": [
              "(53067, 48, 48, 1)"
            ]
          },
          "metadata": {},
          "execution_count": 15
        }
      ],
      "source": [
        "x.shape"
      ]
    },
    {
      "cell_type": "code",
      "execution_count": null,
      "metadata": {
        "id": "OBKqmyB3lrcv"
      },
      "outputs": [],
      "source": [
        "x_train, x_test, y_train, y_test = train_test_split(x, y, test_size=0.1, random_state=42, shuffle = True)"
      ]
    },
    {
      "cell_type": "code",
      "execution_count": null,
      "metadata": {
        "colab": {
          "base_uri": "https://localhost:8080/"
        },
        "id": "XH9AT_72od_t",
        "outputId": "c7c65ad2-2f35-4c8a-e011-8d017de98cf4"
      },
      "outputs": [
        {
          "output_type": "stream",
          "name": "stdout",
          "text": [
            "Number of samples in each class:\n"
          ]
        },
        {
          "output_type": "execute_result",
          "data": {
            "text/plain": [
              "Type\n",
              "3       11935\n",
              "6        8260\n",
              "4        8106\n",
              "2        6867\n",
              "0        6609\n",
              "5        5253\n",
              "1         730\n",
              "dtype: int64"
            ]
          },
          "metadata": {},
          "execution_count": 17
        }
      ],
      "source": [
        "print(\"Number of samples in each class:\")\n",
        "train_sample = pd.DataFrame({'Type': y_train})\n",
        "train_sample.value_counts()"
      ]
    },
    {
      "cell_type": "code",
      "execution_count": null,
      "metadata": {
        "id": "GQVV6jOVUuJV"
      },
      "outputs": [],
      "source": [
        "xn_train = x_train / 255\n",
        "xn_test = x_test / 255"
      ]
    },
    {
      "cell_type": "markdown",
      "metadata": {
        "id": "slEsWh4nplWa"
      },
      "source": [
        "### CNN"
      ]
    },
    {
      "cell_type": "code",
      "execution_count": null,
      "metadata": {
        "id": "FCNfqdFSpm_S"
      },
      "outputs": [],
      "source": [
        "import tensorflow as tf\n",
        "from keras.models import Sequential\n",
        "from keras.layers import Conv2D, MaxPooling2D, BatchNormalization\n",
        "from keras.layers import Activation, Dropout, Flatten, Dense\n",
        "from keras.utils.np_utils import to_categorical\n",
        "from keras.losses import categorical_crossentropy\n",
        "from keras.optimizers import Adam\n",
        "from keras.regularizers import l2\n",
        "from keras import backend as K "
      ]
    },
    {
      "cell_type": "code",
      "execution_count": null,
      "metadata": {
        "id": "0gmq6tlQqHVX"
      },
      "outputs": [],
      "source": [
        "num_features = 64\n",
        "num_labels = 7\n",
        "batch_size = 64\n",
        "epochs = 100\n",
        "width, height = 48, 48"
      ]
    },
    {
      "cell_type": "code",
      "execution_count": null,
      "metadata": {
        "id": "V8oPqjCcbh-7"
      },
      "outputs": [],
      "source": [
        "K.clear_session()"
      ]
    },
    {
      "cell_type": "code",
      "execution_count": null,
      "metadata": {
        "id": "qcWUDicMpDMg"
      },
      "outputs": [],
      "source": [
        "model_cnn = tf.keras.Sequential()\n",
        "\n",
        "model_cnn.add(tf.keras.layers.Conv2D(filters=32, kernel_size=3, padding='same', activation='relu', input_shape=(48,48,1))) \n",
        "model_cnn.add(tf.keras.layers.MaxPooling2D(pool_size=2))\n",
        "model_cnn.add(tf.keras.layers.Dropout(0.3))\n",
        "\n",
        "model_cnn.add(tf.keras.layers.Conv2D(filters=64, kernel_size=3, padding='same', activation='relu'))\n",
        "model_cnn.add(tf.keras.layers.MaxPooling2D(pool_size=2))\n",
        "model_cnn.add(tf.keras.layers.Dropout(0.3))\n",
        "\n",
        "model_cnn.add(tf.keras.layers.Conv2D(filters=128, kernel_size=3, padding='same', activation='relu'))\n",
        "model_cnn.add(tf.keras.layers.MaxPooling2D(pool_size=2))\n",
        "#=model_cnn.add(tf.keras.layers.Dropout(0.3))\n",
        "\n",
        "model_cnn.add(tf.keras.layers.Flatten())\n",
        "model_cnn.add(tf.keras.layers.Dense(256, activation='relu'))\n",
        "model_cnn.add(tf.keras.layers.Dropout(0.3))\n",
        "model_cnn.add(tf.keras.layers.Dense(64, activation='relu'))\n",
        "model_cnn.add(tf.keras.layers.Dropout(0.3))\n",
        "model_cnn.add(Dense(7, activation='softmax'))"
      ]
    },
    {
      "cell_type": "code",
      "source": [
        "model_cnn.summary()"
      ],
      "metadata": {
        "colab": {
          "base_uri": "https://localhost:8080/"
        },
        "id": "rh-mhKS1H13d",
        "outputId": "c41860d7-377a-4bb8-ed0a-8466ce26faef"
      },
      "execution_count": null,
      "outputs": [
        {
          "output_type": "stream",
          "name": "stdout",
          "text": [
            "Model: \"sequential\"\n",
            "_________________________________________________________________\n",
            " Layer (type)                Output Shape              Param #   \n",
            "=================================================================\n",
            " conv2d (Conv2D)             (None, 48, 48, 32)        320       \n",
            "                                                                 \n",
            " max_pooling2d (MaxPooling2D  (None, 24, 24, 32)       0         \n",
            " )                                                               \n",
            "                                                                 \n",
            " dropout (Dropout)           (None, 24, 24, 32)        0         \n",
            "                                                                 \n",
            " conv2d_1 (Conv2D)           (None, 24, 24, 64)        18496     \n",
            "                                                                 \n",
            " max_pooling2d_1 (MaxPooling  (None, 12, 12, 64)       0         \n",
            " 2D)                                                             \n",
            "                                                                 \n",
            " dropout_1 (Dropout)         (None, 12, 12, 64)        0         \n",
            "                                                                 \n",
            " conv2d_2 (Conv2D)           (None, 12, 12, 128)       73856     \n",
            "                                                                 \n",
            " max_pooling2d_2 (MaxPooling  (None, 6, 6, 128)        0         \n",
            " 2D)                                                             \n",
            "                                                                 \n",
            " flatten (Flatten)           (None, 4608)              0         \n",
            "                                                                 \n",
            " dense (Dense)               (None, 256)               1179904   \n",
            "                                                                 \n",
            " dropout_2 (Dropout)         (None, 256)               0         \n",
            "                                                                 \n",
            " dense_1 (Dense)             (None, 64)                16448     \n",
            "                                                                 \n",
            " dropout_3 (Dropout)         (None, 64)                0         \n",
            "                                                                 \n",
            " dense_2 (Dense)             (None, 7)                 455       \n",
            "                                                                 \n",
            "=================================================================\n",
            "Total params: 1,289,479\n",
            "Trainable params: 1,289,479\n",
            "Non-trainable params: 0\n",
            "_________________________________________________________________\n"
          ]
        }
      ]
    },
    {
      "cell_type": "code",
      "execution_count": null,
      "metadata": {
        "id": "_kSQPm1TqYoA"
      },
      "outputs": [],
      "source": [
        "#Compliling the model with adam optimixer and categorical crossentropy loss\n",
        "model_cnn.compile(optimizer=Adam(learning_rate=1e-3), loss='sparse_categorical_crossentropy', metrics=['accuracy'])\n"
      ]
    },
    {
      "cell_type": "code",
      "execution_count": null,
      "metadata": {
        "colab": {
          "base_uri": "https://localhost:8080/"
        },
        "id": "dhqixnhtqffH",
        "outputId": "bd4e7254-3600-474f-9e19-dee00b310d6d"
      },
      "outputs": [
        {
          "output_type": "stream",
          "name": "stdout",
          "text": [
            "Epoch 1/50\n",
            "478/478 [==============================] - 6s 12ms/step - loss: 1.7319 - accuracy: 0.2948 - val_loss: 1.5338 - val_accuracy: 0.4066\n",
            "Epoch 2/50\n",
            "478/478 [==============================] - 5s 11ms/step - loss: 1.4767 - accuracy: 0.4295 - val_loss: 1.3324 - val_accuracy: 0.4980\n",
            "Epoch 3/50\n",
            "478/478 [==============================] - 5s 11ms/step - loss: 1.3390 - accuracy: 0.4891 - val_loss: 1.2443 - val_accuracy: 0.5195\n",
            "Epoch 4/50\n",
            "478/478 [==============================] - 5s 11ms/step - loss: 1.2489 - accuracy: 0.5254 - val_loss: 1.1550 - val_accuracy: 0.5593\n",
            "Epoch 5/50\n",
            "478/478 [==============================] - 6s 13ms/step - loss: 1.1816 - accuracy: 0.5516 - val_loss: 1.1048 - val_accuracy: 0.5853\n",
            "Epoch 6/50\n",
            "478/478 [==============================] - 5s 11ms/step - loss: 1.1159 - accuracy: 0.5811 - val_loss: 1.0653 - val_accuracy: 0.5960\n",
            "Epoch 7/50\n",
            "478/478 [==============================] - 5s 11ms/step - loss: 1.0644 - accuracy: 0.6032 - val_loss: 1.0167 - val_accuracy: 0.6209\n",
            "Epoch 8/50\n",
            "478/478 [==============================] - 5s 11ms/step - loss: 1.0033 - accuracy: 0.6252 - val_loss: 0.9709 - val_accuracy: 0.6458\n",
            "Epoch 9/50\n",
            "478/478 [==============================] - 6s 13ms/step - loss: 0.9550 - accuracy: 0.6471 - val_loss: 0.9514 - val_accuracy: 0.6488\n",
            "Epoch 10/50\n",
            "478/478 [==============================] - 6s 12ms/step - loss: 0.9069 - accuracy: 0.6651 - val_loss: 0.9131 - val_accuracy: 0.6706\n",
            "Epoch 11/50\n",
            "478/478 [==============================] - 5s 11ms/step - loss: 0.8690 - accuracy: 0.6787 - val_loss: 0.8852 - val_accuracy: 0.6863\n",
            "Epoch 12/50\n",
            "478/478 [==============================] - 5s 11ms/step - loss: 0.8270 - accuracy: 0.6955 - val_loss: 0.8659 - val_accuracy: 0.7004\n",
            "Epoch 13/50\n",
            "478/478 [==============================] - 5s 11ms/step - loss: 0.7872 - accuracy: 0.7094 - val_loss: 0.8416 - val_accuracy: 0.7094\n",
            "Epoch 14/50\n",
            "478/478 [==============================] - 5s 11ms/step - loss: 0.7501 - accuracy: 0.7256 - val_loss: 0.8246 - val_accuracy: 0.7168\n",
            "Epoch 15/50\n",
            "478/478 [==============================] - 5s 11ms/step - loss: 0.7196 - accuracy: 0.7365 - val_loss: 0.8243 - val_accuracy: 0.7226\n",
            "Epoch 16/50\n",
            "478/478 [==============================] - 5s 11ms/step - loss: 0.6949 - accuracy: 0.7483 - val_loss: 0.8010 - val_accuracy: 0.7317\n",
            "Epoch 17/50\n",
            "478/478 [==============================] - 5s 11ms/step - loss: 0.6678 - accuracy: 0.7598 - val_loss: 0.8045 - val_accuracy: 0.7326\n",
            "Epoch 18/50\n",
            "478/478 [==============================] - 5s 11ms/step - loss: 0.6414 - accuracy: 0.7669 - val_loss: 0.7833 - val_accuracy: 0.7390\n",
            "Epoch 19/50\n",
            "478/478 [==============================] - 5s 11ms/step - loss: 0.6239 - accuracy: 0.7746 - val_loss: 0.7899 - val_accuracy: 0.7441\n",
            "Epoch 20/50\n",
            "478/478 [==============================] - 5s 11ms/step - loss: 0.6040 - accuracy: 0.7808 - val_loss: 0.7661 - val_accuracy: 0.7582\n",
            "Epoch 21/50\n",
            "478/478 [==============================] - 5s 11ms/step - loss: 0.5761 - accuracy: 0.7928 - val_loss: 0.8069 - val_accuracy: 0.7486\n",
            "Epoch 22/50\n",
            "478/478 [==============================] - 5s 11ms/step - loss: 0.5638 - accuracy: 0.7969 - val_loss: 0.7733 - val_accuracy: 0.7635\n",
            "Epoch 23/50\n",
            "478/478 [==============================] - 5s 11ms/step - loss: 0.5500 - accuracy: 0.8023 - val_loss: 0.7646 - val_accuracy: 0.7684\n",
            "Epoch 24/50\n",
            "478/478 [==============================] - 5s 11ms/step - loss: 0.5302 - accuracy: 0.8105 - val_loss: 0.7636 - val_accuracy: 0.7716\n",
            "Epoch 25/50\n",
            "478/478 [==============================] - 5s 11ms/step - loss: 0.5181 - accuracy: 0.8135 - val_loss: 0.7777 - val_accuracy: 0.7739\n",
            "Epoch 26/50\n",
            "478/478 [==============================] - 5s 11ms/step - loss: 0.5079 - accuracy: 0.8195 - val_loss: 0.7659 - val_accuracy: 0.7744\n",
            "Epoch 27/50\n",
            "478/478 [==============================] - 5s 11ms/step - loss: 0.4924 - accuracy: 0.8228 - val_loss: 0.7478 - val_accuracy: 0.7812\n",
            "Epoch 28/50\n",
            "478/478 [==============================] - 5s 11ms/step - loss: 0.4806 - accuracy: 0.8256 - val_loss: 0.7595 - val_accuracy: 0.7769\n",
            "Epoch 29/50\n",
            "478/478 [==============================] - 5s 11ms/step - loss: 0.4723 - accuracy: 0.8321 - val_loss: 0.7478 - val_accuracy: 0.7839\n",
            "Epoch 30/50\n",
            "478/478 [==============================] - 5s 11ms/step - loss: 0.4513 - accuracy: 0.8396 - val_loss: 0.7584 - val_accuracy: 0.7859\n",
            "Epoch 31/50\n",
            "478/478 [==============================] - 5s 11ms/step - loss: 0.4472 - accuracy: 0.8429 - val_loss: 0.7696 - val_accuracy: 0.7922\n",
            "Epoch 32/50\n",
            "478/478 [==============================] - 5s 11ms/step - loss: 0.4337 - accuracy: 0.8434 - val_loss: 0.7599 - val_accuracy: 0.7910\n",
            "Epoch 33/50\n",
            "478/478 [==============================] - 5s 11ms/step - loss: 0.4265 - accuracy: 0.8484 - val_loss: 0.7669 - val_accuracy: 0.7918\n",
            "Epoch 34/50\n",
            "478/478 [==============================] - 5s 11ms/step - loss: 0.4257 - accuracy: 0.8501 - val_loss: 0.7400 - val_accuracy: 0.7935\n",
            "Epoch 35/50\n",
            "478/478 [==============================] - 5s 11ms/step - loss: 0.4144 - accuracy: 0.8546 - val_loss: 0.7652 - val_accuracy: 0.7986\n",
            "Epoch 36/50\n",
            "478/478 [==============================] - 5s 11ms/step - loss: 0.4084 - accuracy: 0.8534 - val_loss: 0.7344 - val_accuracy: 0.8046\n",
            "Epoch 37/50\n",
            "478/478 [==============================] - 5s 11ms/step - loss: 0.3973 - accuracy: 0.8600 - val_loss: 0.7511 - val_accuracy: 0.8014\n",
            "Epoch 38/50\n",
            "478/478 [==============================] - 5s 11ms/step - loss: 0.3835 - accuracy: 0.8643 - val_loss: 0.7610 - val_accuracy: 0.8052\n",
            "Epoch 39/50\n",
            "478/478 [==============================] - 5s 11ms/step - loss: 0.3824 - accuracy: 0.8629 - val_loss: 0.7882 - val_accuracy: 0.8006\n",
            "Epoch 40/50\n",
            "478/478 [==============================] - 5s 11ms/step - loss: 0.3794 - accuracy: 0.8655 - val_loss: 0.7848 - val_accuracy: 0.8050\n",
            "Epoch 41/50\n",
            "478/478 [==============================] - 5s 11ms/step - loss: 0.3671 - accuracy: 0.8693 - val_loss: 0.7617 - val_accuracy: 0.8104\n",
            "Epoch 42/50\n",
            "478/478 [==============================] - 5s 11ms/step - loss: 0.3638 - accuracy: 0.8715 - val_loss: 0.7979 - val_accuracy: 0.8055\n",
            "Epoch 43/50\n",
            "478/478 [==============================] - 5s 11ms/step - loss: 0.3639 - accuracy: 0.8716 - val_loss: 0.7869 - val_accuracy: 0.8078\n",
            "Epoch 44/50\n",
            "478/478 [==============================] - 5s 11ms/step - loss: 0.3540 - accuracy: 0.8759 - val_loss: 0.7894 - val_accuracy: 0.8082\n",
            "Epoch 45/50\n",
            "478/478 [==============================] - 5s 11ms/step - loss: 0.3468 - accuracy: 0.8781 - val_loss: 0.8023 - val_accuracy: 0.8065\n",
            "Epoch 46/50\n",
            "478/478 [==============================] - 5s 11ms/step - loss: 0.3437 - accuracy: 0.8769 - val_loss: 0.7891 - val_accuracy: 0.8119\n",
            "Epoch 47/50\n",
            "478/478 [==============================] - 5s 11ms/step - loss: 0.3367 - accuracy: 0.8809 - val_loss: 0.7876 - val_accuracy: 0.8121\n",
            "Epoch 48/50\n",
            "478/478 [==============================] - 5s 11ms/step - loss: 0.3369 - accuracy: 0.8809 - val_loss: 0.7792 - val_accuracy: 0.8159\n",
            "Epoch 49/50\n",
            "478/478 [==============================] - 5s 11ms/step - loss: 0.3296 - accuracy: 0.8854 - val_loss: 0.7704 - val_accuracy: 0.8174\n",
            "Epoch 50/50\n",
            "478/478 [==============================] - 5s 11ms/step - loss: 0.3255 - accuracy: 0.8849 - val_loss: 0.7953 - val_accuracy: 0.8106\n"
          ]
        }
      ],
      "source": [
        "#training the model\n",
        "cnn = model_cnn.fit(xn_train,\n",
        "         y_train, validation_data = (xn_test,y_test), \n",
        "         batch_size=100,\n",
        "         epochs=50)"
      ]
    },
    {
      "cell_type": "code",
      "source": [
        "# Evaluate the model on test set\n",
        "score = model_cnn.evaluate(xn_test, y_test, verbose=0)\n",
        "\n",
        "# Print test accuracy\n",
        "print('\\n', 'Test accuracy:', score[1])"
      ],
      "metadata": {
        "colab": {
          "base_uri": "https://localhost:8080/"
        },
        "id": "qjz2NnB2hUZ-",
        "outputId": "12a25ec2-624c-4e63-92dd-bcad5f1169ae"
      },
      "execution_count": null,
      "outputs": [
        {
          "output_type": "stream",
          "name": "stdout",
          "text": [
            "\n",
            " Test accuracy: 0.8106274604797363\n"
          ]
        }
      ]
    },
    {
      "cell_type": "code",
      "source": [
        "plt.plot(cnn.history['accuracy'])\n",
        "plt.plot(cnn.history['val_accuracy'])\n",
        "plt.title('Model accuracy')\n",
        "plt.ylabel('Accuracy')\n",
        "plt.xlabel('Epoch')\n",
        "plt.legend(['Training', 'Validation'], loc='upper left')\n",
        "plt.show()"
      ],
      "metadata": {
        "colab": {
          "base_uri": "https://localhost:8080/",
          "height": 295
        },
        "id": "2l_wpgcyhedO",
        "outputId": "194ffb4a-f198-42ef-8e47-79204df07351"
      },
      "execution_count": null,
      "outputs": [
        {
          "output_type": "display_data",
          "data": {
            "text/plain": [
              "<Figure size 432x288 with 1 Axes>"
            ],
            "image/png": "[encoded data removed]"
          },
          "metadata": {
            "needs_background": "light"
          }
        }
      ]
    },
    {
      "cell_type": "markdown",
      "metadata": {
        "id": "WmyVlV_H1Vjb"
      },
      "source": [
        "### Music recommendation"
      ]
    },
    {
      "cell_type": "code",
      "source": [
        "test_images = pd.read_csv(\"/content/drive/MyDrive/Emotion Recognition/test.csv\")\n",
        "test_images.head(5)"
      ],
      "metadata": {
        "colab": {
          "base_uri": "https://localhost:8080/",
          "height": 206
        },
        "id": "G2RoePlc1_0L",
        "outputId": "3b24763b-695c-4245-96c2-eb0fc6a8f2c5"
      },
      "execution_count": null,
      "outputs": [
        {
          "output_type": "execute_result",
          "data": {
            "text/plain": [
              "                                              pixels\n",
              "0  254 254 254 254 254 249 255 160 2 58 53 70 77 ...\n",
              "1  156 184 198 202 204 207 210 212 213 214 215 21...\n",
              "2  69 118 61 60 96 121 103 87 103 88 70 90 115 12...\n",
              "3  205 203 236 157 83 158 120 116 94 86 155 180 2...\n",
              "4  87 79 74 66 74 96 77 80 80 84 83 89 102 91 84 ..."
            ],
            "text/html": [
              "\n",
              "  <div id=\"df-1f022267-3461-4a40-bf69-073456bb6fbf\">\n",
              "    <div class=\"colab-df-container\">\n",
              "      <div>\n",
              "<style scoped>\n",
              "    .dataframe tbody tr th:only-of-type {\n",
              "        vertical-align: middle;\n",
              "    }\n",
              "\n",
              "    .dataframe tbody tr th {\n",
              "        vertical-align: top;\n",
              "    }\n",
              "\n",
              "    .dataframe thead th {\n",
              "        text-align: right;\n",
              "    }\n",
              "</style>\n",
              "<table border=\"1\" class=\"dataframe\">\n",
              "  <thead>\n",
              "    <tr style=\"text-align: right;\">\n",
              "      <th></th>\n",
              "      <th>pixels</th>\n",
              "    </tr>\n",
              "  </thead>\n",
              "  <tbody>\n",
              "    <tr>\n",
              "      <th>0</th>\n",
              "      <td>254 254 254 254 254 249 255 160 2 58 53 70 77 ...</td>\n",
              "    </tr>\n",
              "    <tr>\n",
              "      <th>1</th>\n",
              "      <td>156 184 198 202 204 207 210 212 213 214 215 21...</td>\n",
              "    </tr>\n",
              "    <tr>\n",
              "      <th>2</th>\n",
              "      <td>69 118 61 60 96 121 103 87 103 88 70 90 115 12...</td>\n",
              "    </tr>\n",
              "    <tr>\n",
              "      <th>3</th>\n",
              "      <td>205 203 236 157 83 158 120 116 94 86 155 180 2...</td>\n",
              "    </tr>\n",
              "    <tr>\n",
              "      <th>4</th>\n",
              "      <td>87 79 74 66 74 96 77 80 80 84 83 89 102 91 84 ...</td>\n",
              "    </tr>\n",
              "  </tbody>\n",
              "</table>\n",
              "</div>\n",
              "      <button class=\"colab-df-convert\" onclick=\"convertToInteractive('df-1f022267-3461-4a40-bf69-073456bb6fbf')\"\n",
              "              title=\"Convert this dataframe to an interactive table.\"\n",
              "              style=\"display:none;\">\n",
              "        \n",
              "  <svg xmlns=\"http://www.w3.org/2000/svg\" height=\"24px\"viewBox=\"0 0 24 24\"\n",
              "       width=\"24px\">\n",
              "    <path d=\"M0 0h24v24H0V0z\" fill=\"none\"/>\n",
              "    <path d=\"M18.56 5.44l.94 2.06.94-2.06 2.06-.94-2.06-.94-.94-2.06-.94 2.06-2.06.94zm-11 1L8.5 8.5l.94-2.06 2.06-.94-2.06-.94L8.5 2.5l-.94 2.06-2.06.94zm10 10l.94 2.06.94-2.06 2.06-.94-2.06-.94-.94-2.06-.94 2.06-2.06.94z\"/><path d=\"M17.41 7.96l-1.37-1.37c-.4-.4-.92-.59-1.43-.59-.52 0-1.04.2-1.43.59L10.3 9.45l-7.72 7.72c-.78.78-.78 2.05 0 2.83L4 21.41c.39.39.9.59 1.41.59.51 0 1.02-.2 1.41-.59l7.78-7.78 2.81-2.81c.8-.78.8-2.07 0-2.86zM5.41 20L4 18.59l7.72-7.72 1.47 1.35L5.41 20z\"/>\n",
              "  </svg>\n",
              "      </button>\n",
              "      \n",
              "  <style>\n",
              "    .colab-df-container {\n",
              "      display:flex;\n",
              "      flex-wrap:wrap;\n",
              "      gap: 12px;\n",
              "    }\n",
              "\n",
              "    .colab-df-convert {\n",
              "      background-color: #E8F0FE;\n",
              "      border: none;\n",
              "      border-radius: 50%;\n",
              "      cursor: pointer;\n",
              "      display: none;\n",
              "      fill: #1967D2;\n",
              "      height: 32px;\n",
              "      padding: 0 0 0 0;\n",
              "      width: 32px;\n",
              "    }\n",
              "\n",
              "    .colab-df-convert:hover {\n",
              "      background-color: #E2EBFA;\n",
              "      box-shadow: 0px 1px 2px rgba(60, 64, 67, 0.3), 0px 1px 3px 1px rgba(60, 64, 67, 0.15);\n",
              "      fill: #174EA6;\n",
              "    }\n",
              "\n",
              "    [theme=dark] .colab-df-convert {\n",
              "      background-color: #3B4455;\n",
              "      fill: #D2E3FC;\n",
              "    }\n",
              "\n",
              "    [theme=dark] .colab-df-convert:hover {\n",
              "      background-color: #434B5C;\n",
              "      box-shadow: 0px 1px 3px 1px rgba(0, 0, 0, 0.15);\n",
              "      filter: drop-shadow(0px 1px 2px rgba(0, 0, 0, 0.3));\n",
              "      fill: #FFFFFF;\n",
              "    }\n",
              "  </style>\n",
              "\n",
              "      <script>\n",
              "        const buttonEl =\n",
              "          document.querySelector('#df-1f022267-3461-4a40-bf69-073456bb6fbf button.colab-df-convert');\n",
              "        buttonEl.style.display =\n",
              "          google.colab.kernel.accessAllowed ? 'block' : 'none';\n",
              "\n",
              "        async function convertToInteractive(key) {\n",
              "          const element = document.querySelector('#df-1f022267-3461-4a40-bf69-073456bb6fbf');\n",
              "          const dataTable =\n",
              "            await google.colab.kernel.invokeFunction('convertToInteractive',\n",
              "                                                     [key], {});\n",
              "          if (!dataTable) return;\n",
              "\n",
              "          const docLinkHtml = 'Like what you see? Visit the ' +\n",
              "            '<a target=\"_blank\" href=https://colab.research.google.com/notebooks/data_table.ipynb>data table notebook</a>'\n",
              "            + ' to learn more about interactive tables.';\n",
              "          element.innerHTML = '';\n",
              "          dataTable['output_type'] = 'display_data';\n",
              "          await google.colab.output.renderOutput(dataTable, element);\n",
              "          const docLink = document.createElement('div');\n",
              "          docLink.innerHTML = docLinkHtml;\n",
              "          element.appendChild(docLink);\n",
              "        }\n",
              "      </script>\n",
              "    </div>\n",
              "  </div>\n",
              "  "
            ]
          },
          "metadata": {},
          "execution_count": 191
        }
      ]
    },
    {
      "cell_type": "code",
      "source": [
        "music_playlist = pd.read_csv(\"/content/drive/MyDrive/Emotion Recognition/data_moods.csv\")\n",
        "music_playlist = music_playlist[['name', 'album', 'artist', 'popularity', 'mood']]\n",
        "music_playlist.head(5)"
      ],
      "metadata": {
        "colab": {
          "base_uri": "https://localhost:8080/",
          "height": 206
        },
        "id": "x3FC1XSym9xr",
        "outputId": "7920c610-2dc1-4ed4-df0f-fbaa87ca3f0f"
      },
      "execution_count": null,
      "outputs": [
        {
          "output_type": "execute_result",
          "data": {
            "text/plain": [
              "                                          name                        album  \\\n",
              "0                                         1999                         1999   \n",
              "1                                           23                           23   \n",
              "2                                     9 Crimes                            9   \n",
              "3                               99 Luftballons               99 Luftballons   \n",
              "4  A Boy Brushed Red Living In Black And White  They're Only Chasing Safety   \n",
              "\n",
              "           artist  popularity       mood  \n",
              "0          Prince          68      Happy  \n",
              "1  Blonde Redhead          43        Sad  \n",
              "2     Damien Rice          60        Sad  \n",
              "3            Nena           2      Happy  \n",
              "4       Underoath          60  Energetic  "
            ],
            "text/html": [
              "\n",
              "  <div id=\"df-32baa4a9-9567-4b68-ae9c-d0e1c18d7217\">\n",
              "    <div class=\"colab-df-container\">\n",
              "      <div>\n",
              "<style scoped>\n",
              "    .dataframe tbody tr th:only-of-type {\n",
              "        vertical-align: middle;\n",
              "    }\n",
              "\n",
              "    .dataframe tbody tr th {\n",
              "        vertical-align: top;\n",
              "    }\n",
              "\n",
              "    .dataframe thead th {\n",
              "        text-align: right;\n",
              "    }\n",
              "</style>\n",
              "<table border=\"1\" class=\"dataframe\">\n",
              "  <thead>\n",
              "    <tr style=\"text-align: right;\">\n",
              "      <th></th>\n",
              "      <th>name</th>\n",
              "      <th>album</th>\n",
              "      <th>artist</th>\n",
              "      <th>popularity</th>\n",
              "      <th>mood</th>\n",
              "    </tr>\n",
              "  </thead>\n",
              "  <tbody>\n",
              "    <tr>\n",
              "      <th>0</th>\n",
              "      <td>1999</td>\n",
              "      <td>1999</td>\n",
              "      <td>Prince</td>\n",
              "      <td>68</td>\n",
              "      <td>Happy</td>\n",
              "    </tr>\n",
              "    <tr>\n",
              "      <th>1</th>\n",
              "      <td>23</td>\n",
              "      <td>23</td>\n",
              "      <td>Blonde Redhead</td>\n",
              "      <td>43</td>\n",
              "      <td>Sad</td>\n",
              "    </tr>\n",
              "    <tr>\n",
              "      <th>2</th>\n",
              "      <td>9 Crimes</td>\n",
              "      <td>9</td>\n",
              "      <td>Damien Rice</td>\n",
              "      <td>60</td>\n",
              "      <td>Sad</td>\n",
              "    </tr>\n",
              "    <tr>\n",
              "      <th>3</th>\n",
              "      <td>99 Luftballons</td>\n",
              "      <td>99 Luftballons</td>\n",
              "      <td>Nena</td>\n",
              "      <td>2</td>\n",
              "      <td>Happy</td>\n",
              "    </tr>\n",
              "    <tr>\n",
              "      <th>4</th>\n",
              "      <td>A Boy Brushed Red Living In Black And White</td>\n",
              "      <td>They're Only Chasing Safety</td>\n",
              "      <td>Underoath</td>\n",
              "      <td>60</td>\n",
              "      <td>Energetic</td>\n",
              "    </tr>\n",
              "  </tbody>\n",
              "</table>\n",
              "</div>\n",
              "      <button class=\"colab-df-convert\" onclick=\"convertToInteractive('df-32baa4a9-9567-4b68-ae9c-d0e1c18d7217')\"\n",
              "              title=\"Convert this dataframe to an interactive table.\"\n",
              "              style=\"display:none;\">\n",
              "        \n",
              "  <svg xmlns=\"http://www.w3.org/2000/svg\" height=\"24px\"viewBox=\"0 0 24 24\"\n",
              "       width=\"24px\">\n",
              "    <path d=\"M0 0h24v24H0V0z\" fill=\"none\"/>\n",
              "    <path d=\"M18.56 5.44l.94 2.06.94-2.06 2.06-.94-2.06-.94-.94-2.06-.94 2.06-2.06.94zm-11 1L8.5 8.5l.94-2.06 2.06-.94-2.06-.94L8.5 2.5l-.94 2.06-2.06.94zm10 10l.94 2.06.94-2.06 2.06-.94-2.06-.94-.94-2.06-.94 2.06-2.06.94z\"/><path d=\"M17.41 7.96l-1.37-1.37c-.4-.4-.92-.59-1.43-.59-.52 0-1.04.2-1.43.59L10.3 9.45l-7.72 7.72c-.78.78-.78 2.05 0 2.83L4 21.41c.39.39.9.59 1.41.59.51 0 1.02-.2 1.41-.59l7.78-7.78 2.81-2.81c.8-.78.8-2.07 0-2.86zM5.41 20L4 18.59l7.72-7.72 1.47 1.35L5.41 20z\"/>\n",
              "  </svg>\n",
              "      </button>\n",
              "      \n",
              "  <style>\n",
              "    .colab-df-container {\n",
              "      display:flex;\n",
              "      flex-wrap:wrap;\n",
              "      gap: 12px;\n",
              "    }\n",
              "\n",
              "    .colab-df-convert {\n",
              "      background-color: #E8F0FE;\n",
              "      border: none;\n",
              "      border-radius: 50%;\n",
              "      cursor: pointer;\n",
              "      display: none;\n",
              "      fill: #1967D2;\n",
              "      height: 32px;\n",
              "      padding: 0 0 0 0;\n",
              "      width: 32px;\n",
              "    }\n",
              "\n",
              "    .colab-df-convert:hover {\n",
              "      background-color: #E2EBFA;\n",
              "      box-shadow: 0px 1px 2px rgba(60, 64, 67, 0.3), 0px 1px 3px 1px rgba(60, 64, 67, 0.15);\n",
              "      fill: #174EA6;\n",
              "    }\n",
              "\n",
              "    [theme=dark] .colab-df-convert {\n",
              "      background-color: #3B4455;\n",
              "      fill: #D2E3FC;\n",
              "    }\n",
              "\n",
              "    [theme=dark] .colab-df-convert:hover {\n",
              "      background-color: #434B5C;\n",
              "      box-shadow: 0px 1px 3px 1px rgba(0, 0, 0, 0.15);\n",
              "      filter: drop-shadow(0px 1px 2px rgba(0, 0, 0, 0.3));\n",
              "      fill: #FFFFFF;\n",
              "    }\n",
              "  </style>\n",
              "\n",
              "      <script>\n",
              "        const buttonEl =\n",
              "          document.querySelector('#df-32baa4a9-9567-4b68-ae9c-d0e1c18d7217 button.colab-df-convert');\n",
              "        buttonEl.style.display =\n",
              "          google.colab.kernel.accessAllowed ? 'block' : 'none';\n",
              "\n",
              "        async function convertToInteractive(key) {\n",
              "          const element = document.querySelector('#df-32baa4a9-9567-4b68-ae9c-d0e1c18d7217');\n",
              "          const dataTable =\n",
              "            await google.colab.kernel.invokeFunction('convertToInteractive',\n",
              "                                                     [key], {});\n",
              "          if (!dataTable) return;\n",
              "\n",
              "          const docLinkHtml = 'Like what you see? Visit the ' +\n",
              "            '<a target=\"_blank\" href=https://colab.research.google.com/notebooks/data_table.ipynb>data table notebook</a>'\n",
              "            + ' to learn more about interactive tables.';\n",
              "          element.innerHTML = '';\n",
              "          dataTable['output_type'] = 'display_data';\n",
              "          await google.colab.output.renderOutput(dataTable, element);\n",
              "          const docLink = document.createElement('div');\n",
              "          docLink.innerHTML = docLinkHtml;\n",
              "          element.appendChild(docLink);\n",
              "        }\n",
              "      </script>\n",
              "    </div>\n",
              "  </div>\n",
              "  "
            ]
          },
          "metadata": {},
          "execution_count": 192
        }
      ]
    },
    {
      "cell_type": "code",
      "source": [
        "music_playlist['mood'].value_counts()"
      ],
      "metadata": {
        "colab": {
          "base_uri": "https://localhost:8080/"
        },
        "id": "zLPZZ0gmyO1W",
        "outputId": "b630bf2f-92c9-4485-ec43-c920f6436ef7"
      },
      "execution_count": null,
      "outputs": [
        {
          "output_type": "execute_result",
          "data": {
            "text/plain": [
              "Sad          197\n",
              "Calm         195\n",
              "Energetic    154\n",
              "Happy        140\n",
              "Name: mood, dtype: int64"
            ]
          },
          "metadata": {},
          "execution_count": 193
        }
      ]
    },
    {
      "cell_type": "code",
      "source": [
        "def select_music(selected_mood):\n",
        "  selected_songs = music_playlist[music_playlist['mood'] == selected_mood]\n",
        "  selected_songs = selected_songs[['name', 'album', 'artist']]\n",
        "  number_of_songs = len(selected_songs)\n",
        "  num = random.randint(5, number_of_songs)\n",
        "  #selected_songs.sort_values(by='popularity', ascending=True)\n",
        "  selected_songs = selected_songs[num-5:num]\n",
        "  selected_songs = selected_songs.reset_index(drop=True)\n",
        "  return selected_songs"
      ],
      "metadata": {
        "id": "i9CuAmyYzEss"
      },
      "execution_count": null,
      "outputs": []
    },
    {
      "cell_type": "code",
      "source": [
        "def select_music_mood(predicted_emotion):\n",
        "  music_mood = \"\"\n",
        "  if (predicted_emotion=='disgust'):\n",
        "    music_mood ='Sad'      \n",
        "  elif (predicted_emotion=='happy' or predicted_emotion=='sad' ):\n",
        "    music_mood = 'Happy'      \n",
        "  elif (predicted_emotion=='fear' or predicted_emotion=='angry' ):\n",
        "    music_mood = 'Calm'\n",
        "  elif (predicted_emotion=='surprise' or predicted_emotion=='neutral' ):\n",
        "    music_mood = 'Energetic'\n",
        "  else:\n",
        "    print(\"Unknown predicted emotion!\")\n",
        "  \n",
        "  return music_mood       "
      ],
      "metadata": {
        "id": "vnjqVhCrz4YV"
      },
      "execution_count": null,
      "outputs": []
    },
    {
      "cell_type": "code",
      "source": [
        "prediction_images = [0, 68, 100, 150, 250, 351, 406, 500]\n",
        "num = random.randint(0, 7)\n",
        "image_to_test = prediction_images[num]"
      ],
      "metadata": {
        "id": "yWNE3GDLdG5e"
      },
      "execution_count": null,
      "outputs": []
    },
    {
      "cell_type": "code",
      "source": [
        "image_pixels = test_images.iloc[image_to_test, -1]\n",
        "image_data = np.fromstring(image_pixels, dtype=int, sep=' ').reshape(48, 48, 1)\n",
        "image_data = image_data/255\n",
        "x = np.expand_dims(image_data, axis=0)\n",
        "emotion_num = model_cnn.predict(x)\n",
        "class_integer = np.argmax(emotion_num, axis=1)\n",
        "emotion = emotion_dict[class_integer[0]]\n",
        " \n",
        "fig = plt.figure(figsize=(3,3))\n",
        "a = fig.add_subplot(1, 1, 1)\n",
        "a.imshow(image_data.reshape(48, 48), cmap=\"binary_r\")\n",
        "a.set_title(\"Image \" + str(num) + \": \" + emotion)\n",
        "music_mood = select_music_mood(emotion)\n",
        "selected_songs = select_music(music_mood)\n",
        "print(selected_songs.head().to_string())"
      ],
      "metadata": {
        "colab": {
          "base_uri": "https://localhost:8080/",
          "height": 349
        },
        "outputId": "1512859f-47f4-465b-cb8c-110c55051c10",
        "id": "Zl6ySA2Gd2Ze"
      },
      "execution_count": null,
      "outputs": [
        {
          "output_type": "stream",
          "name": "stdout",
          "text": [
            "1/1 [==============================] - 0s 17ms/step\n",
            "         name       album               artist\n",
            "0  Light Year  Light Year   Evan Michael Brown\n",
            "1   Limitless   Limitless         Lucas Delphy\n",
            "2      Litost      Litost                Minxz\n",
            "3   Los Feliz   Los Feliz  Search For Atlantis\n",
            "4        Lost        Lost              Annelie\n"
          ]
        },
        {
          "output_type": "display_data",
          "data": {
            "text/plain": [
              "<Figure size 216x216 with 1 Axes>"
            ],
            "image/png": "[encoded data removed]"
          },
          "metadata": {
            "needs_background": "light"
          }
        }
      ]
    }
  ],
  "metadata": {
    "colab": {
      "provenance": [],
      "authorship_tag": "ABX9TyN6zf4uAl8w+spkUV7UBVd0",
      "include_colab_link": true
    },
    "gpuClass": "standard",
    "kernelspec": {
      "display_name": "Python 3",
      "name": "python3"
    },
    "language_info": {
      "name": "python"
    },
    "accelerator": "GPU"
  },
  "nbformat": 4,
  "nbformat_minor": 0
}